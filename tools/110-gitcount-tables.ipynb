{
 "cells": [
  {
   "cell_type": "markdown",
   "metadata": {},
   "source": [
    "## PySAL Change Log Statistics: Table Generation\n",
    "\n",
    "This notebook generates the summary statistics for use in the 6-month releases of PySAL, which is now a meta package. \n",
    "\n",
    "It assumes the subpackages have been git cloned in a directory below the location of this notebook. It also requires network connectivity for some of the reporting.\n",
    "\n",
    "Run this notebook after `100-gitcount.ipynb`\n"
   ]
  },
  {
   "cell_type": "code",
   "execution_count": 1,
   "metadata": {},
   "outputs": [
    {
     "name": "stderr",
     "output_type": "stream",
     "text": [
      "/tmp/ipykernel_279048/3190583148.py:6: DeprecationWarning: \n",
      "Pyarrow will become a required dependency of pandas in the next major release of pandas (pandas 3.0),\n",
      "(to allow more performant data types, such as the Arrow string type, and better interoperability with other libraries)\n",
      "but was not found to be installed on your system.\n",
      "If this would cause problems for you,\n",
      "please provide us feedback at https://github.com/pandas-dev/pandas/issues/54466\n",
      "        \n",
      "  import pandas\n"
     ]
    }
   ],
   "source": [
    "from __future__ import print_function\n",
    "import os\n",
    "import json\n",
    "import re\n",
    "import sys\n",
    "import pandas\n",
    "import subprocess###\n",
    "from subprocess import check_output\n",
    "\n",
    "#import yaml\n",
    "from datetime import datetime, timedelta, time\n",
    "\n",
    "from dateutil.parser import parse\n",
    "import pytz\n",
    "\n",
    "utc=pytz.UTC\n",
    "\n",
    "try:\n",
    "    from urllib import urlopen\n",
    "except:\n",
    "    from urllib.request import urlopen\n",
    "\n",
    "from release_info import release_date, start_date, PYSALVER\n",
    "\n",
    "since = datetime.combine(start_date, time(0,0))\n"
   ]
  },
  {
   "cell_type": "code",
   "execution_count": 2,
   "metadata": {},
   "outputs": [
    {
     "data": {
      "text/plain": [
       "datetime.date(2024, 7, 14)"
      ]
     },
     "execution_count": 2,
     "metadata": {},
     "output_type": "execute_result"
    }
   ],
   "source": [
    "release_date"
   ]
  },
  {
   "cell_type": "code",
   "execution_count": 3,
   "metadata": {},
   "outputs": [],
   "source": [
    "CWD = os.path.abspath(os.path.curdir)"
   ]
  },
  {
   "cell_type": "code",
   "execution_count": 4,
   "metadata": {},
   "outputs": [
    {
     "data": {
      "text/plain": [
       "'/home/serge/para/1_projects/code-pysal-meta/pysal/tools'"
      ]
     },
     "execution_count": 4,
     "metadata": {},
     "output_type": "execute_result"
    }
   ],
   "source": [
    "CWD"
   ]
  },
  {
   "cell_type": "code",
   "execution_count": 5,
   "metadata": {},
   "outputs": [],
   "source": [
    "with open('frozen.txt', 'r') as package_list:\n",
    "    packages = package_list.readlines()\n",
    "    packages = dict([package.strip().split(\">=\") for package in packages])"
   ]
  },
  {
   "cell_type": "code",
   "execution_count": 6,
   "metadata": {},
   "outputs": [],
   "source": [
    "import release_info"
   ]
  },
  {
   "cell_type": "code",
   "execution_count": 7,
   "metadata": {},
   "outputs": [
    {
     "data": {
      "text/plain": [
       "'24.07rc2'"
      ]
     },
     "execution_count": 7,
     "metadata": {},
     "output_type": "execute_result"
    }
   ],
   "source": [
    "release_info.PYSALVER"
   ]
  },
  {
   "cell_type": "code",
   "execution_count": 8,
   "metadata": {},
   "outputs": [],
   "source": [
    "#import pysal\n",
    "packages['pysal'] = release_info.PYSALVER"
   ]
  },
  {
   "cell_type": "code",
   "execution_count": 9,
   "metadata": {},
   "outputs": [
    {
     "data": {
      "text/plain": [
       "{'libpysal': '4.11.0',\n",
       " 'access': '1.1.9',\n",
       " 'esda': '2.5.1',\n",
       " 'giddy': '2.3.5',\n",
       " 'inequality': '1.0.1',\n",
       " 'pointpats': '2.5.0',\n",
       " 'segregation': '2.5',\n",
       " 'spaghetti': '1.7.6',\n",
       " 'mgwr': '2.2.1',\n",
       " 'momepy': '0.7.2',\n",
       " 'spglm': '1.1.0',\n",
       " 'spint': '1.0.7',\n",
       " 'spreg': '1.5.0',\n",
       " 'spvcm': '0.3.0',\n",
       " 'tobler': '0.11.2',\n",
       " 'mapclassify': '2.7.0',\n",
       " 'splot': '1.1.5.post1',\n",
       " 'spopt': '0.6.1',\n",
       " 'pysal': '24.07rc2'}"
      ]
     },
     "execution_count": 9,
     "metadata": {},
     "output_type": "execute_result"
    }
   ],
   "source": [
    "packages"
   ]
  },
  {
   "cell_type": "code",
   "execution_count": 10,
   "metadata": {},
   "outputs": [],
   "source": [
    "import pickle"
   ]
  },
  {
   "cell_type": "code",
   "execution_count": 11,
   "metadata": {},
   "outputs": [],
   "source": [
    "issues_closed = pickle.load(open(\"issues_closed.p\", 'rb'))\n",
    "pulls_closed = pickle.load(open('pulls_closed.p', 'rb'))"
   ]
  },
  {
   "cell_type": "code",
   "execution_count": 12,
   "metadata": {},
   "outputs": [
    {
     "data": {
      "text/plain": [
       "dict"
      ]
     },
     "execution_count": 12,
     "metadata": {},
     "output_type": "execute_result"
    }
   ],
   "source": [
    "type(issues_closed)"
   ]
  },
  {
   "cell_type": "code",
   "execution_count": 13,
   "metadata": {},
   "outputs": [
    {
     "data": {
      "text/plain": [
       "dict_keys(['libpysal', 'access', 'esda', 'giddy', 'inequality', 'pointpats', 'segregation', 'spaghetti', 'mgwr', 'momepy', 'spglm', 'spint', 'spreg', 'spvcm', 'tobler', 'mapclassify', 'splot', 'spopt', 'pysal'])"
      ]
     },
     "execution_count": 13,
     "metadata": {},
     "output_type": "execute_result"
    }
   ],
   "source": [
    "issues_closed.keys()"
   ]
  },
  {
   "cell_type": "code",
   "execution_count": 14,
   "metadata": {},
   "outputs": [],
   "source": [
    "from release_info import get_pypi_info, get_github_info, clone_masters"
   ]
  },
  {
   "cell_type": "code",
   "execution_count": 15,
   "metadata": {},
   "outputs": [],
   "source": [
    "#github_releases = get_github_info()\n",
    "\n",
    "github_releases = pickle.load(open(\"releases.p\", 'rb'))\n"
   ]
  },
  {
   "cell_type": "code",
   "execution_count": 16,
   "metadata": {},
   "outputs": [],
   "source": [
    "from datetime import datetime"
   ]
  },
  {
   "cell_type": "code",
   "execution_count": 17,
   "metadata": {},
   "outputs": [],
   "source": [
    "#pysal_date = datetime.strptime('2021-07-31T12:00:00Z', '%Y-%m-%dT%H:%M:%SZ')\n",
    "pysal_date = release_date\n",
    "#ISO8601 = \"%Y-%m-%dT%H:%M:%SZ\"\n"
   ]
  },
  {
   "cell_type": "code",
   "execution_count": 18,
   "metadata": {},
   "outputs": [],
   "source": [
    "from datetime import date, datetime, time\n",
    "\n",
    "# Create a date object\n",
    "date_obj = release_date\n",
    "\n",
    "# Create a time object (optional, default is midnight if not specified)\n",
    "time_obj = time(0, 0)\n",
    "\n",
    "# Combine date and time to create a datetime object\n",
    "datetime_obj = datetime.combine(date_obj, time_obj)\n",
    "\n",
    "\n",
    "pysal_rel = {'version': f'v{PYSALVER}',\n",
    "            'release_date': datetime_obj}\n",
    "github_releases['pysal'] = pysal_rel"
   ]
  },
  {
   "cell_type": "code",
   "execution_count": 19,
   "metadata": {},
   "outputs": [
    {
     "data": {
      "text/plain": [
       "{'libpysal': {'version': 'v4.11.0',\n",
       "  'url': 'https://api.github.com/repos/pysal/libpysal/tarball/v4.11.0',\n",
       "  'release_date': datetime.datetime(2024, 6, 10, 19, 39, 46)},\n",
       " 'access': {'version': 'v1.1.9',\n",
       "  'url': 'https://api.github.com/repos/pysal/access/tarball/v1.1.9',\n",
       "  'release_date': datetime.datetime(2023, 10, 6, 2, 43, 55)},\n",
       " 'esda': {'version': 'v2.5.1',\n",
       "  'url': 'https://api.github.com/repos/pysal/esda/tarball/v2.5.1',\n",
       "  'release_date': datetime.datetime(2023, 10, 24, 17, 26, 14)},\n",
       " 'giddy': {'version': 'v2.3.5',\n",
       "  'url': 'https://api.github.com/repos/pysal/giddy/tarball/v2.3.5',\n",
       "  'release_date': datetime.datetime(2024, 1, 16, 22, 39, 24)},\n",
       " 'inequality': {'version': 'v1.0.1',\n",
       "  'url': 'https://api.github.com/repos/pysal/inequality/tarball/v1.0.1',\n",
       "  'release_date': datetime.datetime(2023, 10, 28, 23, 10, 33)},\n",
       " 'pointpats': {'version': 'v2.5.0',\n",
       "  'url': 'https://api.github.com/repos/pysal/pointpats/tarball/v2.5.0',\n",
       "  'release_date': datetime.datetime(2024, 7, 4, 5, 5, 17)},\n",
       " 'segregation': {'version': 'v2.5',\n",
       "  'url': 'https://api.github.com/repos/pysal/segregation/tarball/v2.5',\n",
       "  'release_date': datetime.datetime(2023, 8, 24, 16, 41, 39)},\n",
       " 'spaghetti': {'version': 'v1.7.6',\n",
       "  'url': 'https://api.github.com/repos/pysal/spaghetti/tarball/v1.7.6',\n",
       "  'release_date': datetime.datetime(2024, 6, 21, 13, 2, 5)},\n",
       " 'mgwr': {'version': 'v2.2.1',\n",
       "  'url': 'https://api.github.com/repos/pysal/mgwr/tarball/v2.2.1',\n",
       "  'release_date': datetime.datetime(2024, 1, 6, 16, 43, 47)},\n",
       " 'momepy': {'version': 'v0.7.2',\n",
       "  'url': 'https://api.github.com/repos/pysal/momepy/tarball/v0.7.2',\n",
       "  'release_date': datetime.datetime(2024, 6, 27, 8, 26, 8)},\n",
       " 'spglm': {'version': 'v1.1.0',\n",
       "  'url': 'https://api.github.com/repos/pysal/spglm/tarball/v1.1.0',\n",
       "  'release_date': datetime.datetime(2023, 10, 25, 13, 50, 11)},\n",
       " 'spint': {'version': 'v1.0.7',\n",
       "  'url': 'https://api.github.com/repos/pysal/spint/tarball/v1.0.7',\n",
       "  'release_date': datetime.datetime(2020, 9, 9, 2, 28, 50)},\n",
       " 'spreg': {'version': 'v1.5.0',\n",
       "  'url': 'https://api.github.com/repos/pysal/spreg/tarball/v1.5.0',\n",
       "  'release_date': datetime.datetime(2024, 7, 3, 14, 17, 21)},\n",
       " 'spvcm': {'version': 'v0.3.0',\n",
       "  'url': 'https://api.github.com/repos/pysal/spvcm/tarball/v0.3.0',\n",
       "  'release_date': datetime.datetime(2020, 2, 2, 19, 42, 39)},\n",
       " 'tobler': {'version': 'v0.11.2',\n",
       "  'url': 'https://api.github.com/repos/pysal/tobler/tarball/v0.11.2',\n",
       "  'release_date': datetime.datetime(2023, 9, 26, 1, 19, 23)},\n",
       " 'mapclassify': {'version': 'v2.7.0',\n",
       "  'url': 'https://api.github.com/repos/pysal/mapclassify/tarball/v2.7.0',\n",
       "  'release_date': datetime.datetime(2024, 7, 4, 5, 42)},\n",
       " 'splot': {'version': 'v1.1.5.post1',\n",
       "  'url': 'https://api.github.com/repos/pysal/splot/tarball/v1.1.5.post1',\n",
       "  'release_date': datetime.datetime(2022, 4, 13, 21, 13, 27)},\n",
       " 'spopt': {'version': 'v0.6.1',\n",
       "  'url': 'https://api.github.com/repos/pysal/spopt/tarball/v0.6.1',\n",
       "  'release_date': datetime.datetime(2024, 6, 20, 13, 41, 36)},\n",
       " 'pysal': {'version': 'v24.07rc2',\n",
       "  'release_date': datetime.datetime(2024, 7, 14, 0, 0)}}"
      ]
     },
     "execution_count": 19,
     "metadata": {},
     "output_type": "execute_result"
    }
   ],
   "source": [
    "github_releases"
   ]
  },
  {
   "cell_type": "code",
   "execution_count": 20,
   "metadata": {},
   "outputs": [
    {
     "name": "stdout",
     "output_type": "stream",
     "text": [
      "package libpysal released 2024-06-10 19:39:46 <class 'datetime.datetime'>\n",
      "libpysal 2024-06-10 19:39:46 64 36 0 0\n",
      "package access released 2023-10-06 02:43:55 <class 'datetime.datetime'>\n",
      "access 2023-10-06 02:43:55 1 0 0 0\n",
      "package esda released 2023-10-24 17:26:14 <class 'datetime.datetime'>\n",
      "esda 2023-10-24 17:26:14 36 0 0 0\n",
      "package giddy released 2024-01-16 22:39:24 <class 'datetime.datetime'>\n",
      "giddy 2024-01-16 22:39:24 17 0 0 0\n",
      "package inequality released 2023-10-28 23:10:33 <class 'datetime.datetime'>\n",
      "inequality 2023-10-28 23:10:33 4 0 3 0\n",
      "package pointpats released 2024-07-04 05:05:17 <class 'datetime.datetime'>\n",
      "pointpats 2024-07-04 05:05:17 9 8 6 5\n",
      "package segregation released 2023-08-24 16:41:39 <class 'datetime.datetime'>\n",
      "segregation 2023-08-24 16:41:39 3 0 0 0\n",
      "package spaghetti released 2024-06-21 13:02:05 <class 'datetime.datetime'>\n",
      "spaghetti 2024-06-21 13:02:05 14 10 0 0\n",
      "package mgwr released 2024-01-06 16:43:47 <class 'datetime.datetime'>\n",
      "mgwr 2024-01-06 16:43:47 4 0 0 0\n",
      "package momepy released 2024-06-27 08:26:08 <class 'datetime.datetime'>\n",
      "momepy 2024-06-27 08:26:08 95 82 0 0\n",
      "package spglm released 2023-10-25 13:50:11 <class 'datetime.datetime'>\n",
      "spglm 2023-10-25 13:50:11 5 0 3 0\n",
      "package spint released 2020-09-09 02:28:50 <class 'datetime.datetime'>\n",
      "spint 2020-09-09 02:28:50 0 0 0 0\n",
      "package spreg released 2024-07-03 14:17:21 <class 'datetime.datetime'>\n",
      "spreg 2024-07-03 14:17:21 11 7 11 7\n",
      "package spvcm released 2020-02-02 19:42:39 <class 'datetime.datetime'>\n",
      "spvcm 2020-02-02 19:42:39 11 0 0 0\n",
      "package tobler released 2023-09-26 01:19:23 <class 'datetime.datetime'>\n",
      "tobler 2023-09-26 01:19:23 11 0 0 0\n",
      "package mapclassify released 2024-07-04 05:42:00 <class 'datetime.datetime'>\n",
      "mapclassify 2024-07-04 05:42:00 16 14 0 0\n",
      "package splot released 2022-04-13 21:13:27 <class 'datetime.datetime'>\n",
      "splot 2022-04-13 21:13:27 0 0 0 0\n",
      "package spopt released 2024-06-20 13:41:36 <class 'datetime.datetime'>\n",
      "spopt 2024-06-20 13:41:36 19 16 0 0\n",
      "package pysal released 2024-07-14 00:00:00 <class 'datetime.datetime'>\n",
      "pysal 2024-07-14 00:00:00 39 39 0 0\n"
     ]
    }
   ],
   "source": [
    "from datetime import datetime\n",
    "datetime.fromtimestamp(0)\n",
    "ISO8601 = \"%Y-%m-%dT%H:%M:%SZ\"\n",
    "\n",
    "\n",
    "final_pulls = {}\n",
    "final_issues = {}\n",
    "for package in packages:\n",
    "    filtered_issues = []\n",
    "    filtered_pulls = []\n",
    "    released = github_releases[package]['release_date']\n",
    "    print(f'package {package} released {released} {type(released)}')\n",
    "    package_pulls = pulls_closed[package]\n",
    "    package_issues = issues_closed[package]\n",
    "    for issue in package_issues:\n",
    "        #print(issue['number'], issue['title'], issue['closed_at'])\n",
    "        closed = datetime.strptime(issue['closed_at'], ISO8601)\n",
    "        if closed <= released and closed > since:\n",
    "            filtered_issues.append(issue)\n",
    "    final_issues[package] = filtered_issues\n",
    "    for pull in package_pulls:\n",
    "        #print(pull['number'], pull['title'], pull['closed_at'])\n",
    "        closed = datetime.strptime(pull['closed_at'], ISO8601)\n",
    "        if closed <= released and closed > since:\n",
    "            filtered_pulls.append(pull)\n",
    "    final_pulls[package] = filtered_pulls\n",
    "    print(package, released, len(package_issues), len(filtered_issues), len(package_pulls),\n",
    "         len(filtered_pulls))"
   ]
  },
  {
   "cell_type": "code",
   "execution_count": 21,
   "metadata": {},
   "outputs": [
    {
     "data": {
      "text/plain": [
       "str"
      ]
     },
     "execution_count": 21,
     "metadata": {},
     "output_type": "execute_result"
    }
   ],
   "source": [
    "type(issue['closed_at'])"
   ]
  },
  {
   "cell_type": "code",
   "execution_count": 22,
   "metadata": {},
   "outputs": [
    {
     "data": {
      "text/plain": [
       "'pysal'"
      ]
     },
     "execution_count": 22,
     "metadata": {},
     "output_type": "execute_result"
    }
   ],
   "source": [
    "package"
   ]
  },
  {
   "cell_type": "code",
   "execution_count": 23,
   "metadata": {},
   "outputs": [
    {
     "data": {
      "text/plain": [
       "{'url': 'https://api.github.com/repos/pysal/pysal/issues/1297',\n",
       " 'repository_url': 'https://api.github.com/repos/pysal/pysal',\n",
       " 'labels_url': 'https://api.github.com/repos/pysal/pysal/issues/1297/labels{/name}',\n",
       " 'comments_url': 'https://api.github.com/repos/pysal/pysal/issues/1297/comments',\n",
       " 'events_url': 'https://api.github.com/repos/pysal/pysal/issues/1297/events',\n",
       " 'html_url': 'https://github.com/pysal/pysal/pull/1297',\n",
       " 'id': 2103915575,\n",
       " 'node_id': 'PR_kwDOAH6T1M5lPlVp',\n",
       " 'number': 1297,\n",
       " 'title': 'update chat links: gitter >> discord',\n",
       " 'user': {'login': 'jGaboardi',\n",
       "  'id': 8590583,\n",
       "  'node_id': 'MDQ6VXNlcjg1OTA1ODM=',\n",
       "  'avatar_url': 'https://avatars.githubusercontent.com/u/8590583?v=4',\n",
       "  'gravatar_id': '',\n",
       "  'url': 'https://api.github.com/users/jGaboardi',\n",
       "  'html_url': 'https://github.com/jGaboardi',\n",
       "  'followers_url': 'https://api.github.com/users/jGaboardi/followers',\n",
       "  'following_url': 'https://api.github.com/users/jGaboardi/following{/other_user}',\n",
       "  'gists_url': 'https://api.github.com/users/jGaboardi/gists{/gist_id}',\n",
       "  'starred_url': 'https://api.github.com/users/jGaboardi/starred{/owner}{/repo}',\n",
       "  'subscriptions_url': 'https://api.github.com/users/jGaboardi/subscriptions',\n",
       "  'organizations_url': 'https://api.github.com/users/jGaboardi/orgs',\n",
       "  'repos_url': 'https://api.github.com/users/jGaboardi/repos',\n",
       "  'events_url': 'https://api.github.com/users/jGaboardi/events{/privacy}',\n",
       "  'received_events_url': 'https://api.github.com/users/jGaboardi/received_events',\n",
       "  'type': 'User',\n",
       "  'site_admin': False},\n",
       " 'labels': [{'id': 1851350927,\n",
       "   'node_id': 'MDU6TGFiZWwxODUxMzUwOTI3',\n",
       "   'url': 'https://api.github.com/repos/pysal/pysal/labels/Docs',\n",
       "   'name': 'Docs',\n",
       "   'color': '04751e',\n",
       "   'default': False,\n",
       "   'description': ''}],\n",
       " 'state': 'closed',\n",
       " 'locked': False,\n",
       " 'assignee': {'login': 'jGaboardi',\n",
       "  'id': 8590583,\n",
       "  'node_id': 'MDQ6VXNlcjg1OTA1ODM=',\n",
       "  'avatar_url': 'https://avatars.githubusercontent.com/u/8590583?v=4',\n",
       "  'gravatar_id': '',\n",
       "  'url': 'https://api.github.com/users/jGaboardi',\n",
       "  'html_url': 'https://github.com/jGaboardi',\n",
       "  'followers_url': 'https://api.github.com/users/jGaboardi/followers',\n",
       "  'following_url': 'https://api.github.com/users/jGaboardi/following{/other_user}',\n",
       "  'gists_url': 'https://api.github.com/users/jGaboardi/gists{/gist_id}',\n",
       "  'starred_url': 'https://api.github.com/users/jGaboardi/starred{/owner}{/repo}',\n",
       "  'subscriptions_url': 'https://api.github.com/users/jGaboardi/subscriptions',\n",
       "  'organizations_url': 'https://api.github.com/users/jGaboardi/orgs',\n",
       "  'repos_url': 'https://api.github.com/users/jGaboardi/repos',\n",
       "  'events_url': 'https://api.github.com/users/jGaboardi/events{/privacy}',\n",
       "  'received_events_url': 'https://api.github.com/users/jGaboardi/received_events',\n",
       "  'type': 'User',\n",
       "  'site_admin': False},\n",
       " 'assignees': [{'login': 'jGaboardi',\n",
       "   'id': 8590583,\n",
       "   'node_id': 'MDQ6VXNlcjg1OTA1ODM=',\n",
       "   'avatar_url': 'https://avatars.githubusercontent.com/u/8590583?v=4',\n",
       "   'gravatar_id': '',\n",
       "   'url': 'https://api.github.com/users/jGaboardi',\n",
       "   'html_url': 'https://github.com/jGaboardi',\n",
       "   'followers_url': 'https://api.github.com/users/jGaboardi/followers',\n",
       "   'following_url': 'https://api.github.com/users/jGaboardi/following{/other_user}',\n",
       "   'gists_url': 'https://api.github.com/users/jGaboardi/gists{/gist_id}',\n",
       "   'starred_url': 'https://api.github.com/users/jGaboardi/starred{/owner}{/repo}',\n",
       "   'subscriptions_url': 'https://api.github.com/users/jGaboardi/subscriptions',\n",
       "   'organizations_url': 'https://api.github.com/users/jGaboardi/orgs',\n",
       "   'repos_url': 'https://api.github.com/users/jGaboardi/repos',\n",
       "   'events_url': 'https://api.github.com/users/jGaboardi/events{/privacy}',\n",
       "   'received_events_url': 'https://api.github.com/users/jGaboardi/received_events',\n",
       "   'type': 'User',\n",
       "   'site_admin': False}],\n",
       " 'milestone': None,\n",
       " 'comments': 0,\n",
       " 'created_at': '2024-01-28T02:00:52Z',\n",
       " 'updated_at': '2024-01-31T09:58:21Z',\n",
       " 'closed_at': '2024-01-31T09:58:21Z',\n",
       " 'author_association': 'MEMBER',\n",
       " 'active_lock_reason': None,\n",
       " 'draft': False,\n",
       " 'pull_request': {'url': 'https://api.github.com/repos/pysal/pysal/pulls/1297',\n",
       "  'html_url': 'https://github.com/pysal/pysal/pull/1297',\n",
       "  'diff_url': 'https://github.com/pysal/pysal/pull/1297.diff',\n",
       "  'patch_url': 'https://github.com/pysal/pysal/pull/1297.patch',\n",
       "  'merged_at': '2024-01-31T09:58:21Z'},\n",
       " 'body': 'This PR updates the chat links from Gitter to Discord\\r\\n\\r\\n* xref https://github.com/pysal/pysal/issues/1296',\n",
       " 'reactions': {'url': 'https://api.github.com/repos/pysal/pysal/issues/1297/reactions',\n",
       "  'total_count': 0,\n",
       "  '+1': 0,\n",
       "  '-1': 0,\n",
       "  'laugh': 0,\n",
       "  'hooray': 0,\n",
       "  'confused': 0,\n",
       "  'heart': 0,\n",
       "  'rocket': 0,\n",
       "  'eyes': 0},\n",
       " 'timeline_url': 'https://api.github.com/repos/pysal/pysal/issues/1297/timeline',\n",
       " 'performed_via_github_app': None,\n",
       " 'state_reason': None}"
      ]
     },
     "execution_count": 23,
     "metadata": {},
     "output_type": "execute_result"
    }
   ],
   "source": [
    "issue"
   ]
  },
  {
   "cell_type": "code",
   "execution_count": 24,
   "metadata": {},
   "outputs": [],
   "source": [
    "issue_details = final_issues\n",
    "pull_details = final_pulls"
   ]
  },
  {
   "cell_type": "code",
   "execution_count": 25,
   "metadata": {},
   "outputs": [
    {
     "data": {
      "text/plain": [
       "{'libpysal': '4.11.0',\n",
       " 'access': '1.1.9',\n",
       " 'esda': '2.5.1',\n",
       " 'giddy': '2.3.5',\n",
       " 'inequality': '1.0.1',\n",
       " 'pointpats': '2.5.0',\n",
       " 'segregation': '2.5',\n",
       " 'spaghetti': '1.7.6',\n",
       " 'mgwr': '2.2.1',\n",
       " 'momepy': '0.7.2',\n",
       " 'spglm': '1.1.0',\n",
       " 'spint': '1.0.7',\n",
       " 'spreg': '1.5.0',\n",
       " 'spvcm': '0.3.0',\n",
       " 'tobler': '0.11.2',\n",
       " 'mapclassify': '2.7.0',\n",
       " 'splot': '1.1.5.post1',\n",
       " 'spopt': '0.6.1',\n",
       " 'pysal': '24.07rc2'}"
      ]
     },
     "execution_count": 25,
     "metadata": {},
     "output_type": "execute_result"
    }
   ],
   "source": [
    "packages"
   ]
  },
  {
   "cell_type": "code",
   "execution_count": 26,
   "metadata": {},
   "outputs": [],
   "source": [
    "github_releases['pysal']['release_date'] = release_date"
   ]
  },
  {
   "cell_type": "code",
   "execution_count": 27,
   "metadata": {},
   "outputs": [
    {
     "data": {
      "text/plain": [
       "datetime.datetime(2024, 7, 14, 0, 0)"
      ]
     },
     "execution_count": 27,
     "metadata": {},
     "output_type": "execute_result"
    }
   ],
   "source": [
    "released"
   ]
  },
  {
   "cell_type": "code",
   "execution_count": 28,
   "metadata": {},
   "outputs": [
    {
     "data": {
      "text/plain": [
       "dict_keys(['libpysal', 'access', 'esda', 'giddy', 'inequality', 'pointpats', 'segregation', 'spaghetti', 'mgwr', 'momepy', 'spglm', 'spint', 'spreg', 'spvcm', 'tobler', 'mapclassify', 'splot', 'spopt', 'pysal'])"
      ]
     },
     "execution_count": 28,
     "metadata": {},
     "output_type": "execute_result"
    }
   ],
   "source": [
    "packages.keys()"
   ]
  },
  {
   "cell_type": "code",
   "execution_count": 29,
   "metadata": {},
   "outputs": [],
   "source": [
    "spvcm = packages['spvcm']"
   ]
  },
  {
   "cell_type": "code",
   "execution_count": 30,
   "metadata": {},
   "outputs": [],
   "source": [
    "## skip packages not released since last meta release\n",
    "\n",
    "# handle meta\n",
    "mrd = github_releases['pysal']['release_date']\n",
    "github_releases['pysal']['release_date'] =  datetime.combine(mrd, time(0,0))\n"
   ]
  },
  {
   "cell_type": "code",
   "execution_count": 31,
   "metadata": {},
   "outputs": [
    {
     "name": "stdout",
     "output_type": "stream",
     "text": [
      "new:  libpysal\n",
      "old: access\n",
      "old: esda\n",
      "old: giddy\n",
      "old: inequality\n",
      "new:  pointpats\n",
      "old: segregation\n",
      "new:  spaghetti\n",
      "old: mgwr\n",
      "new:  momepy\n",
      "old: spglm\n",
      "old: spint\n",
      "new:  spreg\n",
      "old: spvcm\n",
      "old: tobler\n",
      "new:  mapclassify\n",
      "old: splot\n",
      "new:  spopt\n",
      "new:  pysal\n"
     ]
    }
   ],
   "source": [
    "for package in github_releases:\n",
    "    if github_releases[package]['release_date']>since:\n",
    "        print(\"new: \",package)\n",
    "    else:\n",
    "        print('old:', package)"
   ]
  },
  {
   "cell_type": "code",
   "execution_count": 32,
   "metadata": {},
   "outputs": [
    {
     "data": {
      "text/plain": [
       "datetime.datetime(2024, 7, 14, 0, 0)"
      ]
     },
     "execution_count": 32,
     "metadata": {},
     "output_type": "execute_result"
    }
   ],
   "source": [
    "github_releases[package]['release_date']"
   ]
  },
  {
   "cell_type": "code",
   "execution_count": 33,
   "metadata": {},
   "outputs": [
    {
     "data": {
      "text/plain": [
       "datetime.datetime(2024, 1, 31, 0, 0)"
      ]
     },
     "execution_count": 33,
     "metadata": {},
     "output_type": "execute_result"
    }
   ],
   "source": [
    "since"
   ]
  },
  {
   "cell_type": "code",
   "execution_count": 34,
   "metadata": {},
   "outputs": [
    {
     "data": {
      "text/plain": [
       "{'libpysal': {'version': 'v4.11.0',\n",
       "  'url': 'https://api.github.com/repos/pysal/libpysal/tarball/v4.11.0',\n",
       "  'release_date': datetime.datetime(2024, 6, 10, 19, 39, 46)},\n",
       " 'access': {'version': 'v1.1.9',\n",
       "  'url': 'https://api.github.com/repos/pysal/access/tarball/v1.1.9',\n",
       "  'release_date': datetime.datetime(2023, 10, 6, 2, 43, 55)},\n",
       " 'esda': {'version': 'v2.5.1',\n",
       "  'url': 'https://api.github.com/repos/pysal/esda/tarball/v2.5.1',\n",
       "  'release_date': datetime.datetime(2023, 10, 24, 17, 26, 14)},\n",
       " 'giddy': {'version': 'v2.3.5',\n",
       "  'url': 'https://api.github.com/repos/pysal/giddy/tarball/v2.3.5',\n",
       "  'release_date': datetime.datetime(2024, 1, 16, 22, 39, 24)},\n",
       " 'inequality': {'version': 'v1.0.1',\n",
       "  'url': 'https://api.github.com/repos/pysal/inequality/tarball/v1.0.1',\n",
       "  'release_date': datetime.datetime(2023, 10, 28, 23, 10, 33)},\n",
       " 'pointpats': {'version': 'v2.5.0',\n",
       "  'url': 'https://api.github.com/repos/pysal/pointpats/tarball/v2.5.0',\n",
       "  'release_date': datetime.datetime(2024, 7, 4, 5, 5, 17)},\n",
       " 'segregation': {'version': 'v2.5',\n",
       "  'url': 'https://api.github.com/repos/pysal/segregation/tarball/v2.5',\n",
       "  'release_date': datetime.datetime(2023, 8, 24, 16, 41, 39)},\n",
       " 'spaghetti': {'version': 'v1.7.6',\n",
       "  'url': 'https://api.github.com/repos/pysal/spaghetti/tarball/v1.7.6',\n",
       "  'release_date': datetime.datetime(2024, 6, 21, 13, 2, 5)},\n",
       " 'mgwr': {'version': 'v2.2.1',\n",
       "  'url': 'https://api.github.com/repos/pysal/mgwr/tarball/v2.2.1',\n",
       "  'release_date': datetime.datetime(2024, 1, 6, 16, 43, 47)},\n",
       " 'momepy': {'version': 'v0.7.2',\n",
       "  'url': 'https://api.github.com/repos/pysal/momepy/tarball/v0.7.2',\n",
       "  'release_date': datetime.datetime(2024, 6, 27, 8, 26, 8)},\n",
       " 'spglm': {'version': 'v1.1.0',\n",
       "  'url': 'https://api.github.com/repos/pysal/spglm/tarball/v1.1.0',\n",
       "  'release_date': datetime.datetime(2023, 10, 25, 13, 50, 11)},\n",
       " 'spint': {'version': 'v1.0.7',\n",
       "  'url': 'https://api.github.com/repos/pysal/spint/tarball/v1.0.7',\n",
       "  'release_date': datetime.datetime(2020, 9, 9, 2, 28, 50)},\n",
       " 'spreg': {'version': 'v1.5.0',\n",
       "  'url': 'https://api.github.com/repos/pysal/spreg/tarball/v1.5.0',\n",
       "  'release_date': datetime.datetime(2024, 7, 3, 14, 17, 21)},\n",
       " 'spvcm': {'version': 'v0.3.0',\n",
       "  'url': 'https://api.github.com/repos/pysal/spvcm/tarball/v0.3.0',\n",
       "  'release_date': datetime.datetime(2020, 2, 2, 19, 42, 39)},\n",
       " 'tobler': {'version': 'v0.11.2',\n",
       "  'url': 'https://api.github.com/repos/pysal/tobler/tarball/v0.11.2',\n",
       "  'release_date': datetime.datetime(2023, 9, 26, 1, 19, 23)},\n",
       " 'mapclassify': {'version': 'v2.7.0',\n",
       "  'url': 'https://api.github.com/repos/pysal/mapclassify/tarball/v2.7.0',\n",
       "  'release_date': datetime.datetime(2024, 7, 4, 5, 42)},\n",
       " 'splot': {'version': 'v1.1.5.post1',\n",
       "  'url': 'https://api.github.com/repos/pysal/splot/tarball/v1.1.5.post1',\n",
       "  'release_date': datetime.datetime(2022, 4, 13, 21, 13, 27)},\n",
       " 'spopt': {'version': 'v0.6.1',\n",
       "  'url': 'https://api.github.com/repos/pysal/spopt/tarball/v0.6.1',\n",
       "  'release_date': datetime.datetime(2024, 6, 20, 13, 41, 36)},\n",
       " 'pysal': {'version': 'v24.07rc2',\n",
       "  'release_date': datetime.datetime(2024, 7, 14, 0, 0)}}"
      ]
     },
     "execution_count": 34,
     "metadata": {},
     "output_type": "execute_result"
    }
   ],
   "source": [
    "github_releases"
   ]
  },
  {
   "cell_type": "code",
   "execution_count": 35,
   "metadata": {},
   "outputs": [
    {
     "data": {
      "text/plain": [
       "'--since=\"2024-01-31\"'"
      ]
     },
     "execution_count": 35,
     "metadata": {},
     "output_type": "execute_result"
    }
   ],
   "source": [
    "since_date = '--since=\"{start}\"'.format(start=start_date.strftime(\"%Y-%m-%d\"))\n",
    "since_date\n",
    "                                        "
   ]
  },
  {
   "cell_type": "code",
   "execution_count": 36,
   "metadata": {},
   "outputs": [
    {
     "name": "stdout",
     "output_type": "stream",
     "text": [
      "2024-06-10\n",
      "libpysal 78 41 2024-06-10\n",
      "2023-10-06\n",
      "access 78 0 2023-10-06\n",
      "2023-10-24\n",
      "esda 78 0 2023-10-24\n",
      "2024-01-16\n",
      "giddy 78 0 2024-01-16\n",
      "2023-10-28\n",
      "inequality 78 0 2023-10-28\n",
      "2024-07-04\n",
      "pointpats 18 18 2024-07-04\n",
      "2023-08-24\n",
      "segregation 18 0 2023-08-24\n",
      "2024-06-21\n",
      "spaghetti 15 11 2024-06-21\n",
      "2024-01-06\n",
      "mgwr 15 0 2024-01-06\n",
      "2024-06-27\n",
      "momepy 74 69 2024-06-27\n",
      "2023-10-25\n",
      "spglm 74 0 2023-10-25\n",
      "2020-09-09\n",
      "spint 74 0 2020-09-09\n",
      "2024-07-03\n",
      "spreg 29 20 2024-07-03\n",
      "2020-02-02\n",
      "spvcm 29 0 2020-02-02\n",
      "2023-09-26\n",
      "tobler 29 0 2023-09-26\n",
      "2024-07-04\n",
      "mapclassify 52 48 2024-07-04\n",
      "2022-04-13\n",
      "splot 52 0 2022-04-13\n",
      "2024-06-20\n",
      "spopt 22 18 2024-06-20\n",
      "2024-07-14\n",
      "pysal 66 66 2024-07-14\n"
     ]
    }
   ],
   "source": [
    "# commits\n",
    "cmd = ['git', 'log', '--oneline', since_date]\n",
    "\n",
    "activity = {}\n",
    "total_commits = 0\n",
    "tag_dates = {}\n",
    "ncommits_total = 0\n",
    "for subpackage in packages:\n",
    "    released = github_releases[subpackage]['release_date']\n",
    "    tag_date = released.strftime(\"%Y-%m-%d\")\n",
    "    tag_dates[subpackage] = tag_date\n",
    "    print(tag_date)\n",
    "    #tag_date = tag_dates[subpackage]\n",
    "    ncommits = 0\n",
    "    if released > since:\n",
    "        os.chdir(CWD)\n",
    "        os.chdir('tmp/{subpackage}'.format(subpackage=subpackage))\n",
    "        cmd_until = cmd + ['--until=\"{tag_date}\"'.format(tag_date=tag_date)]\n",
    "        ncommits = len(check_output(cmd_until).splitlines())\n",
    "        ncommits_total = len(check_output(cmd).splitlines())\n",
    "    print(subpackage, ncommits_total, ncommits, tag_date)\n",
    "    total_commits += ncommits\n",
    "    activity[subpackage] = ncommits"
   ]
  },
  {
   "cell_type": "code",
   "execution_count": 37,
   "metadata": {},
   "outputs": [
    {
     "data": {
      "text/plain": [
       "{'libpysal': 41,\n",
       " 'access': 0,\n",
       " 'esda': 0,\n",
       " 'giddy': 0,\n",
       " 'inequality': 0,\n",
       " 'pointpats': 18,\n",
       " 'segregation': 0,\n",
       " 'spaghetti': 11,\n",
       " 'mgwr': 0,\n",
       " 'momepy': 69,\n",
       " 'spglm': 0,\n",
       " 'spint': 0,\n",
       " 'spreg': 20,\n",
       " 'spvcm': 0,\n",
       " 'tobler': 0,\n",
       " 'mapclassify': 48,\n",
       " 'splot': 0,\n",
       " 'spopt': 18,\n",
       " 'pysal': 66}"
      ]
     },
     "execution_count": 37,
     "metadata": {},
     "output_type": "execute_result"
    }
   ],
   "source": [
    "activity"
   ]
  },
  {
   "cell_type": "code",
   "execution_count": null,
   "metadata": {},
   "outputs": [],
   "source": []
  },
  {
   "cell_type": "code",
   "execution_count": 38,
   "metadata": {},
   "outputs": [
    {
     "data": {
      "text/plain": [
       "'pysal'"
      ]
     },
     "execution_count": 38,
     "metadata": {},
     "output_type": "execute_result"
    }
   ],
   "source": [
    "subpackage"
   ]
  },
  {
   "cell_type": "code",
   "execution_count": 39,
   "metadata": {},
   "outputs": [
    {
     "data": {
      "text/plain": [
       "'/home/serge/para/1_projects/code-pysal-meta/pysal/tools'"
      ]
     },
     "execution_count": 39,
     "metadata": {},
     "output_type": "execute_result"
    }
   ],
   "source": [
    "CWD"
   ]
  },
  {
   "cell_type": "code",
   "execution_count": 40,
   "metadata": {},
   "outputs": [
    {
     "name": "stdout",
     "output_type": "stream",
     "text": [
      "41\n",
      "libpysal 78 41 2024-06-10\n",
      "18\n",
      "pointpats 18 18 2024-07-04\n",
      "11\n",
      "spaghetti 15 11 2024-06-21\n",
      "69\n",
      "momepy 74 69 2024-06-27\n",
      "20\n",
      "spreg 29 20 2024-07-03\n",
      "48\n",
      "mapclassify 52 48 2024-07-04\n",
      "18\n",
      "spopt 22 18 2024-06-20\n",
      "66\n",
      "pysal 66 66 2024-07-14\n"
     ]
    }
   ],
   "source": [
    "# commits\n",
    "cmd = ['git', 'log', '--oneline', since_date]\n",
    "\n",
    "activity = {}\n",
    "total_commits = 0\n",
    "for subpackage in packages:\n",
    "    ncommits = 0\n",
    "    tag_date = tag_dates[subpackage]\n",
    "    released = github_releases[subpackage]['release_date']\n",
    "    if released > since:\n",
    "        os.chdir(CWD)\n",
    "        os.chdir('tmp/{subpackage}'.format(subpackage=subpackage))\n",
    "        cmd_until = cmd + ['--until=\"{tag_date}\"'.format(tag_date=tag_date)]\n",
    "        ncommits = len(check_output(cmd_until).splitlines())\n",
    "        print(ncommits)\n",
    "        ncommits_total = len(check_output(cmd).splitlines())\n",
    "        print(subpackage, ncommits_total, ncommits, tag_date)\n",
    "    total_commits += ncommits\n",
    "    activity[subpackage] = ncommits"
   ]
  },
  {
   "cell_type": "code",
   "execution_count": 41,
   "metadata": {},
   "outputs": [],
   "source": [
    "identities = {'Levi John Wolf': ('ljwolf', 'Levi John Wolf'),\n",
    "              'Serge Rey': ('Serge Rey', 'Sergio Rey', 'sjsrey', 'serge'),\n",
    "              'Wei Kang': ('Wei Kang', 'weikang9009'),\n",
    "              'Dani Arribas-Bel': ('Dani Arribas-Bel', 'darribas'),\n",
    "              'Antti Härkönen': ( 'antth', 'Antti Härkönen', 'Antti Härkönen', 'Antth'  ),\n",
    "              'Juan C Duque': ('Juan C Duque', \"Juan Duque\"),\n",
    "              'Renan Xavier Cortes': ('Renan Xavier Cortes', 'renanxcortes', 'Renan Xavier Cortes'   ),\n",
    "              'Taylor Oshan': ('Tayloroshan', 'Taylor Oshan', 'TaylorOshan'),\n",
    "              'Tom Gertin': ('@Tomgertin', 'Tom Gertin', '@tomgertin')\n",
    "}\n",
    "\n",
    "def regularize_identity(string):\n",
    "    string = string.decode()\n",
    "    for name, aliases in identities.items():\n",
    "        for alias in aliases:\n",
    "            if alias in string:\n",
    "                string = string.replace(alias, name)\n",
    "    if len(string.split(' '))>1:\n",
    "        string = string.title()\n",
    "    return string.lstrip('* ')"
   ]
  },
  {
   "cell_type": "code",
   "execution_count": 42,
   "metadata": {},
   "outputs": [],
   "source": [
    "author_cmd = ['git', 'log', '--format=* %aN', since_date]"
   ]
  },
  {
   "cell_type": "code",
   "execution_count": 43,
   "metadata": {},
   "outputs": [],
   "source": [
    "author_cmd.append('blank')"
   ]
  },
  {
   "cell_type": "code",
   "execution_count": 44,
   "metadata": {},
   "outputs": [
    {
     "data": {
      "text/plain": [
       "['git', 'log', '--format=* %aN', '--since=\"2024-01-31\"', 'blank']"
      ]
     },
     "execution_count": 44,
     "metadata": {},
     "output_type": "execute_result"
    }
   ],
   "source": [
    "author_cmd"
   ]
  },
  {
   "cell_type": "code",
   "execution_count": 45,
   "metadata": {},
   "outputs": [],
   "source": [
    "from collections import Counter"
   ]
  },
  {
   "cell_type": "code",
   "execution_count": 46,
   "metadata": {},
   "outputs": [
    {
     "data": {
      "text/plain": [
       "{'libpysal': '4.11.0',\n",
       " 'access': '1.1.9',\n",
       " 'esda': '2.5.1',\n",
       " 'giddy': '2.3.5',\n",
       " 'inequality': '1.0.1',\n",
       " 'pointpats': '2.5.0',\n",
       " 'segregation': '2.5',\n",
       " 'spaghetti': '1.7.6',\n",
       " 'mgwr': '2.2.1',\n",
       " 'momepy': '0.7.2',\n",
       " 'spglm': '1.1.0',\n",
       " 'spint': '1.0.7',\n",
       " 'spreg': '1.5.0',\n",
       " 'spvcm': '0.3.0',\n",
       " 'tobler': '0.11.2',\n",
       " 'mapclassify': '2.7.0',\n",
       " 'splot': '1.1.5.post1',\n",
       " 'spopt': '0.6.1',\n",
       " 'pysal': '24.07rc2'}"
      ]
     },
     "execution_count": 46,
     "metadata": {},
     "output_type": "execute_result"
    }
   ],
   "source": [
    "packages"
   ]
  },
  {
   "cell_type": "code",
   "execution_count": 47,
   "metadata": {},
   "outputs": [
    {
     "data": {
      "text/plain": [
       "{'libpysal': '2024-06-10',\n",
       " 'access': '2023-10-06',\n",
       " 'esda': '2023-10-24',\n",
       " 'giddy': '2024-01-16',\n",
       " 'inequality': '2023-10-28',\n",
       " 'pointpats': '2024-07-04',\n",
       " 'segregation': '2023-08-24',\n",
       " 'spaghetti': '2024-06-21',\n",
       " 'mgwr': '2024-01-06',\n",
       " 'momepy': '2024-06-27',\n",
       " 'spglm': '2023-10-25',\n",
       " 'spint': '2020-09-09',\n",
       " 'spreg': '2024-07-03',\n",
       " 'spvcm': '2020-02-02',\n",
       " 'tobler': '2023-09-26',\n",
       " 'mapclassify': '2024-07-04',\n",
       " 'splot': '2022-04-13',\n",
       " 'spopt': '2024-06-20',\n",
       " 'pysal': '2024-07-14'}"
      ]
     },
     "execution_count": 47,
     "metadata": {},
     "output_type": "execute_result"
    }
   ],
   "source": [
    "tag_dates"
   ]
  },
  {
   "cell_type": "code",
   "execution_count": 48,
   "metadata": {},
   "outputs": [
    {
     "name": "stdout",
     "output_type": "stream",
     "text": [
      "['git', 'log', '--oneline', '--since=\"2024-01-31\"']\n",
      "libpysal ['git', 'log', '--format=* %aN', '--since=\"2024-01-31\"', '--until=\"2024-06-11\"']\n",
      "['git', 'log', '--oneline', '--since=\"2024-01-31\"']\n",
      "pointpats ['git', 'log', '--format=* %aN', '--since=\"2024-01-31\"', '--until=\"2024-07-05\"']\n",
      "['git', 'log', '--oneline', '--since=\"2024-01-31\"']\n",
      "spaghetti ['git', 'log', '--format=* %aN', '--since=\"2024-01-31\"', '--until=\"2024-06-22\"']\n",
      "['git', 'log', '--oneline', '--since=\"2024-01-31\"']\n",
      "momepy ['git', 'log', '--format=* %aN', '--since=\"2024-01-31\"', '--until=\"2024-06-28\"']\n",
      "['git', 'log', '--oneline', '--since=\"2024-01-31\"']\n",
      "spreg ['git', 'log', '--format=* %aN', '--since=\"2024-01-31\"', '--until=\"2024-07-04\"']\n",
      "['git', 'log', '--oneline', '--since=\"2024-01-31\"']\n",
      "mapclassify ['git', 'log', '--format=* %aN', '--since=\"2024-01-31\"', '--until=\"2024-07-05\"']\n",
      "['git', 'log', '--oneline', '--since=\"2024-01-31\"']\n",
      "spopt ['git', 'log', '--format=* %aN', '--since=\"2024-01-31\"', '--until=\"2024-06-21\"']\n",
      "['git', 'log', '--oneline', '--since=\"2024-01-31\"']\n",
      "pysal ['git', 'log', '--format=* %aN', '--since=\"2024-01-31\"', '--until=\"2024-07-15\"']\n"
     ]
    }
   ],
   "source": [
    "authors_global = set()\n",
    "authors = {}\n",
    "global_counter = Counter()\n",
    "counters = dict()\n",
    "cmd = ['git', 'log', '--oneline', since_date]\n",
    "total_commits = 0\n",
    "activity = {}\n",
    "for subpackage in packages:\n",
    "    ncommits = 0\n",
    "    released = github_releases[subpackage]['release_date']\n",
    "    if released > since:\n",
    "        os.chdir(CWD)\n",
    "        os.chdir('tmp/{subpackage}'.format(subpackage=subpackage))\n",
    "        ncommits = len(check_output(cmd).splitlines())\n",
    "        print(cmd)\n",
    "        tag_date = tag_dates[subpackage]\n",
    "        tag_date = (datetime.strptime(tag_date, '%Y-%m-%d') + timedelta(days=1)).strftime('%Y-%m-%d')\n",
    "        author_cmd[-1] = '--until=\"{tag_date}\"'.format(tag_date=tag_date)\n",
    "        #cmd_until = cmd + ['--until=\"{tag_date}\"'.format(tag_date=tag_date)]\n",
    "        print(subpackage, author_cmd)\n",
    "\n",
    "\n",
    "        all_authors = check_output(author_cmd).splitlines()\n",
    "        counter = Counter([regularize_identity(author) for author in all_authors])\n",
    "        global_counter += counter\n",
    "        counters.update({subpackage: counter})\n",
    "        unique_authors = sorted(set(all_authors))\n",
    "        authors[subpackage] =  unique_authors\n",
    "        authors_global.update(unique_authors)\n",
    "    total_commits += ncommits\n",
    "    activity[subpackage] = ncommits"
   ]
  },
  {
   "cell_type": "code",
   "execution_count": 49,
   "metadata": {},
   "outputs": [
    {
     "data": {
      "text/plain": [
       "['git',\n",
       " 'log',\n",
       " '--format=* %aN',\n",
       " '--since=\"2024-01-31\"',\n",
       " '--until=\"2024-07-15\"']"
      ]
     },
     "execution_count": 49,
     "metadata": {},
     "output_type": "execute_result"
    }
   ],
   "source": [
    "author_cmd"
   ]
  },
  {
   "cell_type": "code",
   "execution_count": 50,
   "metadata": {},
   "outputs": [
    {
     "data": {
      "text/plain": [
       "'pysal'"
      ]
     },
     "execution_count": 50,
     "metadata": {},
     "output_type": "execute_result"
    }
   ],
   "source": [
    "subpackage"
   ]
  },
  {
   "cell_type": "code",
   "execution_count": 51,
   "metadata": {},
   "outputs": [
    {
     "data": {
      "text/plain": [
       "{b'* Anna Brazdova',\n",
       " b'* Daniela Dan\\xc4\\x8dejov\\xc3\\xa1',\n",
       " b'* Germano Barcelos',\n",
       " b'* James Gaboardi',\n",
       " b'* Krasen Samardzhiev',\n",
       " b'* Levi John Wolf',\n",
       " b'* Lisa',\n",
       " b'* Marek Novotn\\xc3\\xbd',\n",
       " b'* Martin Fleischmann',\n",
       " b'* Pedro Amaral',\n",
       " b'* Serge Rey',\n",
       " b'* Sergio Rey',\n",
       " b'* anastassiavybornova',\n",
       " b'* dependabot[bot]',\n",
       " b'* eli knaap',\n",
       " b'* pre-commit-ci[bot]',\n",
       " b'* ryanzomorrodi',\n",
       " b'* stevee404'}"
      ]
     },
     "execution_count": 51,
     "metadata": {},
     "output_type": "execute_result"
    }
   ],
   "source": [
    "authors_global"
   ]
  },
  {
   "cell_type": "code",
   "execution_count": 52,
   "metadata": {},
   "outputs": [
    {
     "data": {
      "text/plain": [
       "{'libpysal': 78,\n",
       " 'access': 0,\n",
       " 'esda': 0,\n",
       " 'giddy': 0,\n",
       " 'inequality': 0,\n",
       " 'pointpats': 18,\n",
       " 'segregation': 0,\n",
       " 'spaghetti': 15,\n",
       " 'mgwr': 0,\n",
       " 'momepy': 74,\n",
       " 'spglm': 0,\n",
       " 'spint': 0,\n",
       " 'spreg': 29,\n",
       " 'spvcm': 0,\n",
       " 'tobler': 0,\n",
       " 'mapclassify': 52,\n",
       " 'splot': 0,\n",
       " 'spopt': 22,\n",
       " 'pysal': 66}"
      ]
     },
     "execution_count": 52,
     "metadata": {},
     "output_type": "execute_result"
    }
   ],
   "source": [
    "activity"
   ]
  },
  {
   "cell_type": "code",
   "execution_count": 53,
   "metadata": {},
   "outputs": [],
   "source": [
    "def get_tag(title, level=\"##\", as_string=True):\n",
    "    words = title.split()\n",
    "    tag = \"-\".join([word.lower() for word in words])\n",
    "    heading = level+\" \"+title\n",
    "    line = \"\\n\\n<a name=\\\"{}\\\"></a>\".format(tag)\n",
    "    lines = [line]\n",
    "    lines.append(heading)\n",
    "    if as_string:\n",
    "        return \"\\n\".join(lines)\n",
    "    else:\n",
    "        return lines"
   ]
  },
  {
   "cell_type": "code",
   "execution_count": 54,
   "metadata": {},
   "outputs": [
    {
     "name": "stdout",
     "output_type": "stream",
     "text": [
      "libpysal, v4.11.0\n",
      "access, v1.1.9\n",
      "esda, v2.5.1\n",
      "giddy, v2.3.5\n",
      "inequality, v1.0.1\n",
      "pointpats, v2.5.0\n",
      "segregation, v2.5\n",
      "spaghetti, v1.7.6\n",
      "mgwr, v2.2.1\n",
      "momepy, v0.7.2\n",
      "spglm, v1.1.0\n",
      "spint, v1.0.7\n",
      "spreg, v1.5.0\n",
      "spvcm, v0.3.0\n",
      "tobler, v0.11.2\n",
      "mapclassify, v2.7.0\n",
      "splot, v1.1.5.post1\n",
      "spopt, v0.6.1\n",
      "pysal, v24.07rc2\n"
     ]
    }
   ],
   "source": [
    "subs = issue_details.keys()\n",
    "table = []\n",
    "txt = []\n",
    "lines = get_tag(\"Changes by Package\", as_string=False)\n",
    "\n",
    "for sub in github_releases:\n",
    "    total= issue_details[sub]\n",
    "    pr = pull_details[sub]\n",
    "    \n",
    "    row = [sub, activity[sub], len(total), len(pr)]\n",
    "    table.append(row)\n",
    "    #line = \"\\n<a name=\\\"{sub}\\\"></a>\".format(sub=sub)\n",
    "    #lines.append(line)\n",
    "    #line = \"### {sub}\".format(sub=sub)\n",
    "    #lines.append(line)\n",
    "    sub_lower = sub.lower()\n",
    "    sub_version = github_releases[sub_lower]['version']\n",
    "    print(f'{sub_lower}, {sub_version}')\n",
    "    title = f'{sub_lower} {sub_version}'\n",
    "    lines.extend(get_tag(title, \"###\", as_string=False))\n",
    "    for issue in total:\n",
    "        url = issue['html_url']\n",
    "        title = issue['title']\n",
    "        number = issue['number']\n",
    "        line = \"* [#{number}:]({url}) {title} \".format(title=title,\n",
    "                                                     number=number,\n",
    "                                                     url=url)\n",
    "        lines.append(line)\n",
    "\n"
   ]
  },
  {
   "cell_type": "code",
   "execution_count": 55,
   "metadata": {},
   "outputs": [
    {
     "data": {
      "text/plain": [
       "'pysal'"
      ]
     },
     "execution_count": 55,
     "metadata": {},
     "output_type": "execute_result"
    }
   ],
   "source": [
    "sub"
   ]
  },
  {
   "cell_type": "code",
   "execution_count": 56,
   "metadata": {},
   "outputs": [],
   "source": [
    "os.chdir(CWD)\n",
    "\n",
    "import pandas"
   ]
  },
  {
   "cell_type": "code",
   "execution_count": 57,
   "metadata": {},
   "outputs": [],
   "source": [
    "df = pandas.DataFrame(table, columns=['package', 'commits', 'total issues', 'pulls'])"
   ]
  },
  {
   "cell_type": "code",
   "execution_count": 58,
   "metadata": {},
   "outputs": [
    {
     "data": {
      "text/html": [
       "<div>\n",
       "<style scoped>\n",
       "    .dataframe tbody tr th:only-of-type {\n",
       "        vertical-align: middle;\n",
       "    }\n",
       "\n",
       "    .dataframe tbody tr th {\n",
       "        vertical-align: top;\n",
       "    }\n",
       "\n",
       "    .dataframe thead th {\n",
       "        text-align: right;\n",
       "    }\n",
       "</style>\n",
       "<table border=\"1\" class=\"dataframe\">\n",
       "  <thead>\n",
       "    <tr style=\"text-align: right;\">\n",
       "      <th></th>\n",
       "      <th>package</th>\n",
       "      <th>commits</th>\n",
       "      <th>total issues</th>\n",
       "      <th>pulls</th>\n",
       "    </tr>\n",
       "  </thead>\n",
       "  <tbody>\n",
       "    <tr>\n",
       "      <th>0</th>\n",
       "      <td>libpysal</td>\n",
       "      <td>78</td>\n",
       "      <td>36</td>\n",
       "      <td>0</td>\n",
       "    </tr>\n",
       "    <tr>\n",
       "      <th>1</th>\n",
       "      <td>access</td>\n",
       "      <td>0</td>\n",
       "      <td>0</td>\n",
       "      <td>0</td>\n",
       "    </tr>\n",
       "    <tr>\n",
       "      <th>2</th>\n",
       "      <td>esda</td>\n",
       "      <td>0</td>\n",
       "      <td>0</td>\n",
       "      <td>0</td>\n",
       "    </tr>\n",
       "    <tr>\n",
       "      <th>3</th>\n",
       "      <td>giddy</td>\n",
       "      <td>0</td>\n",
       "      <td>0</td>\n",
       "      <td>0</td>\n",
       "    </tr>\n",
       "    <tr>\n",
       "      <th>4</th>\n",
       "      <td>inequality</td>\n",
       "      <td>0</td>\n",
       "      <td>0</td>\n",
       "      <td>0</td>\n",
       "    </tr>\n",
       "  </tbody>\n",
       "</table>\n",
       "</div>"
      ],
      "text/plain": [
       "      package  commits  total issues  pulls\n",
       "0    libpysal       78            36      0\n",
       "1      access        0             0      0\n",
       "2        esda        0             0      0\n",
       "3       giddy        0             0      0\n",
       "4  inequality        0             0      0"
      ]
     },
     "execution_count": 58,
     "metadata": {},
     "output_type": "execute_result"
    }
   ],
   "source": [
    "df.head()"
   ]
  },
  {
   "cell_type": "code",
   "execution_count": 59,
   "metadata": {},
   "outputs": [
    {
     "data": {
      "text/plain": [
       "(19, 4)"
      ]
     },
     "execution_count": 59,
     "metadata": {},
     "output_type": "execute_result"
    }
   ],
   "source": [
    "df.shape"
   ]
  },
  {
   "cell_type": "code",
   "execution_count": 60,
   "metadata": {},
   "outputs": [
    {
     "data": {
      "text/plain": [
       "dict"
      ]
     },
     "execution_count": 60,
     "metadata": {},
     "output_type": "execute_result"
    }
   ],
   "source": [
    "type(counters)"
   ]
  },
  {
   "cell_type": "code",
   "execution_count": 61,
   "metadata": {},
   "outputs": [],
   "source": [
    "df.sort_values(['commits','pulls'], ascending=False)\\\n",
    "  .to_html('./commit_table.html', index=None)"
   ]
  },
  {
   "cell_type": "code",
   "execution_count": 62,
   "metadata": {},
   "outputs": [
    {
     "data": {
      "text/plain": [
       "package         libpysalaccessesdagiddyinequalitypointpatssegr...\n",
       "commits                                                       354\n",
       "total issues                                                  212\n",
       "pulls                                                          12\n",
       "dtype: object"
      ]
     },
     "execution_count": 62,
     "metadata": {},
     "output_type": "execute_result"
    }
   ],
   "source": [
    "df.sum()"
   ]
  },
  {
   "cell_type": "code",
   "execution_count": 63,
   "metadata": {},
   "outputs": [],
   "source": [
    "contributor_table = pandas.DataFrame.from_dict(counters).fillna(0).astype(int).T"
   ]
  },
  {
   "cell_type": "code",
   "execution_count": 64,
   "metadata": {},
   "outputs": [],
   "source": [
    "contributor_table.to_html('./contributor_table.html')"
   ]
  },
  {
   "cell_type": "code",
   "execution_count": 65,
   "metadata": {},
   "outputs": [
    {
     "data": {
      "text/html": [
       "<div>\n",
       "<style scoped>\n",
       "    .dataframe tbody tr th:only-of-type {\n",
       "        vertical-align: middle;\n",
       "    }\n",
       "\n",
       "    .dataframe tbody tr th {\n",
       "        vertical-align: top;\n",
       "    }\n",
       "\n",
       "    .dataframe thead th {\n",
       "        text-align: right;\n",
       "    }\n",
       "</style>\n",
       "<table border=\"1\" class=\"dataframe\">\n",
       "  <thead>\n",
       "    <tr style=\"text-align: right;\">\n",
       "      <th></th>\n",
       "      <th>commits</th>\n",
       "    </tr>\n",
       "  </thead>\n",
       "  <tbody>\n",
       "    <tr>\n",
       "      <th>Anastassiavybornova</th>\n",
       "      <td>1</td>\n",
       "    </tr>\n",
       "    <tr>\n",
       "      <th>Anna Brazdova</th>\n",
       "      <td>1</td>\n",
       "    </tr>\n",
       "    <tr>\n",
       "      <th>Daniela Dančejová</th>\n",
       "      <td>1</td>\n",
       "    </tr>\n",
       "    <tr>\n",
       "      <th>Dependabot[Bot]</th>\n",
       "      <td>10</td>\n",
       "    </tr>\n",
       "    <tr>\n",
       "      <th>Eli Knaap</th>\n",
       "      <td>51</td>\n",
       "    </tr>\n",
       "    <tr>\n",
       "      <th>Germano Barcelos</th>\n",
       "      <td>5</td>\n",
       "    </tr>\n",
       "    <tr>\n",
       "      <th>James Gaboardi</th>\n",
       "      <td>46</td>\n",
       "    </tr>\n",
       "    <tr>\n",
       "      <th>Krasen Samardzhiev</th>\n",
       "      <td>21</td>\n",
       "    </tr>\n",
       "    <tr>\n",
       "      <th>Levi John Wolf</th>\n",
       "      <td>1</td>\n",
       "    </tr>\n",
       "    <tr>\n",
       "      <th>Lisa</th>\n",
       "      <td>1</td>\n",
       "    </tr>\n",
       "    <tr>\n",
       "      <th>Marek Novotný</th>\n",
       "      <td>1</td>\n",
       "    </tr>\n",
       "    <tr>\n",
       "      <th>Martin Fleischmann</th>\n",
       "      <td>79</td>\n",
       "    </tr>\n",
       "    <tr>\n",
       "      <th>Pedro Amaral</th>\n",
       "      <td>12</td>\n",
       "    </tr>\n",
       "    <tr>\n",
       "      <th>Pre-Commit-Ci[Bot]</th>\n",
       "      <td>11</td>\n",
       "    </tr>\n",
       "    <tr>\n",
       "      <th>Ryanzomorrodi</th>\n",
       "      <td>1</td>\n",
       "    </tr>\n",
       "    <tr>\n",
       "      <th>Serge Rey</th>\n",
       "      <td>49</td>\n",
       "    </tr>\n",
       "    <tr>\n",
       "      <th>Stevee404</th>\n",
       "      <td>1</td>\n",
       "    </tr>\n",
       "  </tbody>\n",
       "</table>\n",
       "</div>"
      ],
      "text/plain": [
       "                     commits\n",
       "Anastassiavybornova        1\n",
       "Anna Brazdova              1\n",
       "Daniela Dančejová          1\n",
       "Dependabot[Bot]           10\n",
       "Eli Knaap                 51\n",
       "Germano Barcelos           5\n",
       "James Gaboardi            46\n",
       "Krasen Samardzhiev        21\n",
       "Levi John Wolf             1\n",
       "Lisa                       1\n",
       "Marek Novotný              1\n",
       "Martin Fleischmann        79\n",
       "Pedro Amaral              12\n",
       "Pre-Commit-Ci[Bot]        11\n",
       "Ryanzomorrodi              1\n",
       "Serge Rey                 49\n",
       "Stevee404                  1"
      ]
     },
     "execution_count": 65,
     "metadata": {},
     "output_type": "execute_result"
    }
   ],
   "source": [
    "totals = contributor_table.sum(axis=0).T\n",
    "totals.sort_index().to_frame('commits')"
   ]
  },
  {
   "cell_type": "code",
   "execution_count": 66,
   "metadata": {},
   "outputs": [],
   "source": [
    "totals = contributor_table.sum(axis=0).T\n",
    "totals.sort_index().to_frame('commits').to_html('./commits_by_person.html')"
   ]
  },
  {
   "cell_type": "code",
   "execution_count": 67,
   "metadata": {},
   "outputs": [
    {
     "data": {
      "text/plain": [
       "Martin Fleischmann     79\n",
       "Serge Rey              49\n",
       "Krasen Samardzhiev     21\n",
       "James Gaboardi         46\n",
       "Lisa                    1\n",
       "Anna Brazdova           1\n",
       "Marek Novotný           1\n",
       "Daniela Dančejová       1\n",
       "Pre-Commit-Ci[Bot]     11\n",
       "Levi John Wolf          1\n",
       "Dependabot[Bot]        10\n",
       "Eli Knaap              51\n",
       "Stevee404               1\n",
       "Anastassiavybornova     1\n",
       "Pedro Amaral           12\n",
       "Germano Barcelos        5\n",
       "Ryanzomorrodi           1\n",
       "dtype: int64"
      ]
     },
     "execution_count": 67,
     "metadata": {},
     "output_type": "execute_result"
    }
   ],
   "source": [
    "totals"
   ]
  },
  {
   "cell_type": "code",
   "execution_count": 68,
   "metadata": {},
   "outputs": [],
   "source": [
    "n_commits = df.commits.sum()\n",
    "n_issues = df['total issues'].sum()\n",
    "n_pulls = df.pulls.sum()"
   ]
  },
  {
   "cell_type": "code",
   "execution_count": 69,
   "metadata": {},
   "outputs": [
    {
     "data": {
      "text/plain": [
       "354"
      ]
     },
     "execution_count": 69,
     "metadata": {},
     "output_type": "execute_result"
    }
   ],
   "source": [
    "n_commits"
   ]
  },
  {
   "cell_type": "code",
   "execution_count": 70,
   "metadata": {},
   "outputs": [],
   "source": [
    "#Overall, there were 719 commits that closed 240 issues, together with 105 pull requests across 12 packages since our last release on 2017-11-03.\n",
    "#('{0} Here is a really long '\n",
    "#           'sentence with {1}').format(3, 5))\n",
    "line = ('Overall, there were {n_commits} commits that closed {n_issues} issues'  \n",
    "    ' since our last release' \n",
    "        ' on {since_date}.\\n'.format(n_commits=n_commits, n_issues=n_issues,\n",
    "        since_date = start_date))"
   ]
  },
  {
   "cell_type": "code",
   "execution_count": 71,
   "metadata": {},
   "outputs": [
    {
     "data": {
      "text/plain": [
       "'Overall, there were 354 commits that closed 212 issues since our last release on 2024-01-31.\\n'"
      ]
     },
     "execution_count": 71,
     "metadata": {},
     "output_type": "execute_result"
    }
   ],
   "source": [
    "line"
   ]
  },
  {
   "cell_type": "markdown",
   "metadata": {},
   "source": [
    "## append html files to end of changes.md with tags for toc"
   ]
  },
  {
   "cell_type": "code",
   "execution_count": 72,
   "metadata": {},
   "outputs": [],
   "source": [
    "with open('changes.md', 'w') as fout:\n",
    "    fout.write(line)\n",
    "    fout.write(\"\\n\".join(lines))\n",
    "    fout.write(get_tag(\"Contributors\"))\n",
    "    fout.write(\"\\n\\nMany thanks to all of the following individuals who contributed to this release:\\n\\n\")\n",
    "    \n",
    "    \n",
    "    \n",
    "    totals = contributor_table.sum(axis=0).T\n",
    "    contributors = totals.index.values\n",
    "    contributors.sort()\n",
    "    contributors = contributors.tolist() \n",
    "    contributors = [ f'\\n - {contributor}' for contributor in contributors]\n",
    "    fout.write(\"\".join(contributors))\n",
    "    \n"
   ]
  },
  {
   "cell_type": "code",
   "execution_count": 73,
   "metadata": {},
   "outputs": [
    {
     "data": {
      "text/html": [
       "<div>\n",
       "<style scoped>\n",
       "    .dataframe tbody tr th:only-of-type {\n",
       "        vertical-align: middle;\n",
       "    }\n",
       "\n",
       "    .dataframe tbody tr th {\n",
       "        vertical-align: top;\n",
       "    }\n",
       "\n",
       "    .dataframe thead th {\n",
       "        text-align: right;\n",
       "    }\n",
       "</style>\n",
       "<table border=\"1\" class=\"dataframe\">\n",
       "  <thead>\n",
       "    <tr style=\"text-align: right;\">\n",
       "      <th></th>\n",
       "      <th>package</th>\n",
       "      <th>commits</th>\n",
       "      <th>total issues</th>\n",
       "      <th>pulls</th>\n",
       "    </tr>\n",
       "  </thead>\n",
       "  <tbody>\n",
       "    <tr>\n",
       "      <th>0</th>\n",
       "      <td>libpysal</td>\n",
       "      <td>78</td>\n",
       "      <td>36</td>\n",
       "      <td>0</td>\n",
       "    </tr>\n",
       "    <tr>\n",
       "      <th>1</th>\n",
       "      <td>access</td>\n",
       "      <td>0</td>\n",
       "      <td>0</td>\n",
       "      <td>0</td>\n",
       "    </tr>\n",
       "    <tr>\n",
       "      <th>2</th>\n",
       "      <td>esda</td>\n",
       "      <td>0</td>\n",
       "      <td>0</td>\n",
       "      <td>0</td>\n",
       "    </tr>\n",
       "    <tr>\n",
       "      <th>3</th>\n",
       "      <td>giddy</td>\n",
       "      <td>0</td>\n",
       "      <td>0</td>\n",
       "      <td>0</td>\n",
       "    </tr>\n",
       "    <tr>\n",
       "      <th>4</th>\n",
       "      <td>inequality</td>\n",
       "      <td>0</td>\n",
       "      <td>0</td>\n",
       "      <td>0</td>\n",
       "    </tr>\n",
       "  </tbody>\n",
       "</table>\n",
       "</div>"
      ],
      "text/plain": [
       "      package  commits  total issues  pulls\n",
       "0    libpysal       78            36      0\n",
       "1      access        0             0      0\n",
       "2        esda        0             0      0\n",
       "3       giddy        0             0      0\n",
       "4  inequality        0             0      0"
      ]
     },
     "execution_count": 73,
     "metadata": {},
     "output_type": "execute_result"
    }
   ],
   "source": [
    "df.head()"
   ]
  },
  {
   "cell_type": "code",
   "execution_count": 74,
   "metadata": {},
   "outputs": [
    {
     "data": {
      "text/html": [
       "<div>\n",
       "<style scoped>\n",
       "    .dataframe tbody tr th:only-of-type {\n",
       "        vertical-align: middle;\n",
       "    }\n",
       "\n",
       "    .dataframe tbody tr th {\n",
       "        vertical-align: top;\n",
       "    }\n",
       "\n",
       "    .dataframe thead th {\n",
       "        text-align: right;\n",
       "    }\n",
       "</style>\n",
       "<table border=\"1\" class=\"dataframe\">\n",
       "  <thead>\n",
       "    <tr style=\"text-align: right;\">\n",
       "      <th></th>\n",
       "      <th>package</th>\n",
       "      <th>commits</th>\n",
       "      <th>total issues</th>\n",
       "      <th>pulls</th>\n",
       "    </tr>\n",
       "  </thead>\n",
       "  <tbody>\n",
       "    <tr>\n",
       "      <th>0</th>\n",
       "      <td>libpysal</td>\n",
       "      <td>78</td>\n",
       "      <td>36</td>\n",
       "      <td>0</td>\n",
       "    </tr>\n",
       "    <tr>\n",
       "      <th>1</th>\n",
       "      <td>access</td>\n",
       "      <td>0</td>\n",
       "      <td>0</td>\n",
       "      <td>0</td>\n",
       "    </tr>\n",
       "    <tr>\n",
       "      <th>2</th>\n",
       "      <td>esda</td>\n",
       "      <td>0</td>\n",
       "      <td>0</td>\n",
       "      <td>0</td>\n",
       "    </tr>\n",
       "    <tr>\n",
       "      <th>3</th>\n",
       "      <td>giddy</td>\n",
       "      <td>0</td>\n",
       "      <td>0</td>\n",
       "      <td>0</td>\n",
       "    </tr>\n",
       "    <tr>\n",
       "      <th>4</th>\n",
       "      <td>inequality</td>\n",
       "      <td>0</td>\n",
       "      <td>0</td>\n",
       "      <td>0</td>\n",
       "    </tr>\n",
       "    <tr>\n",
       "      <th>5</th>\n",
       "      <td>pointpats</td>\n",
       "      <td>18</td>\n",
       "      <td>8</td>\n",
       "      <td>5</td>\n",
       "    </tr>\n",
       "    <tr>\n",
       "      <th>6</th>\n",
       "      <td>segregation</td>\n",
       "      <td>0</td>\n",
       "      <td>0</td>\n",
       "      <td>0</td>\n",
       "    </tr>\n",
       "    <tr>\n",
       "      <th>7</th>\n",
       "      <td>spaghetti</td>\n",
       "      <td>15</td>\n",
       "      <td>10</td>\n",
       "      <td>0</td>\n",
       "    </tr>\n",
       "    <tr>\n",
       "      <th>8</th>\n",
       "      <td>mgwr</td>\n",
       "      <td>0</td>\n",
       "      <td>0</td>\n",
       "      <td>0</td>\n",
       "    </tr>\n",
       "    <tr>\n",
       "      <th>9</th>\n",
       "      <td>momepy</td>\n",
       "      <td>74</td>\n",
       "      <td>82</td>\n",
       "      <td>0</td>\n",
       "    </tr>\n",
       "    <tr>\n",
       "      <th>10</th>\n",
       "      <td>spglm</td>\n",
       "      <td>0</td>\n",
       "      <td>0</td>\n",
       "      <td>0</td>\n",
       "    </tr>\n",
       "    <tr>\n",
       "      <th>11</th>\n",
       "      <td>spint</td>\n",
       "      <td>0</td>\n",
       "      <td>0</td>\n",
       "      <td>0</td>\n",
       "    </tr>\n",
       "    <tr>\n",
       "      <th>12</th>\n",
       "      <td>spreg</td>\n",
       "      <td>29</td>\n",
       "      <td>7</td>\n",
       "      <td>7</td>\n",
       "    </tr>\n",
       "    <tr>\n",
       "      <th>13</th>\n",
       "      <td>spvcm</td>\n",
       "      <td>0</td>\n",
       "      <td>0</td>\n",
       "      <td>0</td>\n",
       "    </tr>\n",
       "    <tr>\n",
       "      <th>14</th>\n",
       "      <td>tobler</td>\n",
       "      <td>0</td>\n",
       "      <td>0</td>\n",
       "      <td>0</td>\n",
       "    </tr>\n",
       "    <tr>\n",
       "      <th>15</th>\n",
       "      <td>mapclassify</td>\n",
       "      <td>52</td>\n",
       "      <td>14</td>\n",
       "      <td>0</td>\n",
       "    </tr>\n",
       "    <tr>\n",
       "      <th>16</th>\n",
       "      <td>splot</td>\n",
       "      <td>0</td>\n",
       "      <td>0</td>\n",
       "      <td>0</td>\n",
       "    </tr>\n",
       "  </tbody>\n",
       "</table>\n",
       "</div>"
      ],
      "text/plain": [
       "        package  commits  total issues  pulls\n",
       "0      libpysal       78            36      0\n",
       "1        access        0             0      0\n",
       "2          esda        0             0      0\n",
       "3         giddy        0             0      0\n",
       "4    inequality        0             0      0\n",
       "5     pointpats       18             8      5\n",
       "6   segregation        0             0      0\n",
       "7     spaghetti       15            10      0\n",
       "8          mgwr        0             0      0\n",
       "9        momepy       74            82      0\n",
       "10        spglm        0             0      0\n",
       "11        spint        0             0      0\n",
       "12        spreg       29             7      7\n",
       "13        spvcm        0             0      0\n",
       "14       tobler        0             0      0\n",
       "15  mapclassify       52            14      0\n",
       "16        splot        0             0      0"
      ]
     },
     "execution_count": 74,
     "metadata": {},
     "output_type": "execute_result"
    }
   ],
   "source": [
    "df.head(17)"
   ]
  },
  {
   "cell_type": "code",
   "execution_count": 75,
   "metadata": {},
   "outputs": [
    {
     "data": {
      "text/plain": [
       "12"
      ]
     },
     "execution_count": 75,
     "metadata": {},
     "output_type": "execute_result"
    }
   ],
   "source": [
    "n_pulls"
   ]
  },
  {
   "cell_type": "code",
   "execution_count": 76,
   "metadata": {},
   "outputs": [],
   "source": [
    "\"\"\"\n",
    "Update ../pyproject.toml for minimum pysal package pinning\n",
    "\"\"\"\n",
    "# get version numbers from frozen.txt\n",
    "with open('frozen.txt', 'r') as frozen:\n",
    "    packages = [line.rstrip() for line in frozen.readlines()]\n",
    "\n",
    "# search pyproject.toml for lines containing package\n",
    "with open('../pyproject.toml', 'r') as project:\n",
    "    lines = [line.rstrip() for line in project.readlines()]\n",
    "\n",
    "# split line ->\"    package\",  \">=\",  \"version\",\n",
    "# replace version and rebuild line to update\n",
    "for package in packages:\n",
    "    name, version = package.split(\">=\")\n",
    "    i, match = [(i, line) for i, line in enumerate(lines) if name in line][0]\n",
    "    old_name, old_version = match.split(\">=\")\n",
    "    new_line = \">=\".join([old_name, version+'\",'])\n",
    "    lines[i] = new_line\n",
    "\n",
    "# write out new pyproject.toml file\n",
    "with open(\"../pyproject.toml\", 'w') as output:\n",
    "    output.write(\"\\n\".join(lines))\n"
   ]
  },
  {
   "cell_type": "code",
   "execution_count": 77,
   "metadata": {},
   "outputs": [
    {
     "data": {
      "text/plain": [
       "['libpysal>=4.11.0',\n",
       " 'access>=1.1.9',\n",
       " 'esda>=2.5.1',\n",
       " 'giddy>=2.3.5',\n",
       " 'inequality>=1.0.1',\n",
       " 'pointpats>=2.5.0',\n",
       " 'segregation>=2.5',\n",
       " 'spaghetti>=1.7.6',\n",
       " 'mgwr>=2.2.1',\n",
       " 'momepy>=0.7.2',\n",
       " 'spglm>=1.1.0',\n",
       " 'spint>=1.0.7',\n",
       " 'spreg>=1.5.0',\n",
       " 'spvcm>=0.3.0',\n",
       " 'tobler>=0.11.2',\n",
       " 'mapclassify>=2.7.0',\n",
       " 'splot>=1.1.5.post1',\n",
       " 'spopt>=0.6.1']"
      ]
     },
     "execution_count": 77,
     "metadata": {},
     "output_type": "execute_result"
    }
   ],
   "source": [
    "packages"
   ]
  },
  {
   "cell_type": "code",
   "execution_count": null,
   "metadata": {},
   "outputs": [],
   "source": []
  },
  {
   "cell_type": "code",
   "execution_count": null,
   "metadata": {},
   "outputs": [],
   "source": []
  }
 ],
 "metadata": {
  "kernelspec": {
   "display_name": "Python 3 (ipykernel)",
   "language": "python",
   "name": "python3"
  },
  "language_info": {
   "codemirror_mode": {
    "name": "ipython",
    "version": 3
   },
   "file_extension": ".py",
   "mimetype": "text/x-python",
   "name": "python",
   "nbconvert_exporter": "python",
   "pygments_lexer": "ipython3",
   "version": "3.12.2"
  }
 },
 "nbformat": 4,
 "nbformat_minor": 4
}
