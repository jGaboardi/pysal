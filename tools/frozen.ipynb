{
 "cells": [
  {
   "cell_type": "code",
   "execution_count": 11,
   "id": "amino-suggestion",
   "metadata": {},
   "outputs": [],
   "source": [
    "import json"
   ]
  },
  {
   "cell_type": "code",
   "execution_count": 12,
   "id": "familiar-limit",
   "metadata": {},
   "outputs": [],
   "source": [
    "from release_info import get_github_info"
   ]
  },
  {
   "cell_type": "code",
   "execution_count": 13,
   "id": "graphic-arcade",
   "metadata": {},
   "outputs": [
    {
     "name": "stdout",
     "output_type": "stream",
     "text": [
      "https://api.github.com/repos/pysal/libpysal/releases/latest\n",
      "https://api.github.com/repos/pysal/access/releases/latest\n",
      "https://api.github.com/repos/pysal/esda/releases/latest\n",
      "https://api.github.com/repos/pysal/giddy/releases/latest\n",
      "https://api.github.com/repos/pysal/inequality/releases/latest\n",
      "https://api.github.com/repos/pysal/pointpats/releases/latest\n",
      "https://api.github.com/repos/pysal/segregation/releases/latest\n",
      "https://api.github.com/repos/pysal/spaghetti/releases/latest\n",
      "https://api.github.com/repos/pysal/mgwr/releases/latest\n",
      "https://api.github.com/repos/pysal/momepy/releases/latest\n",
      "https://api.github.com/repos/pysal/spglm/releases/latest\n",
      "https://api.github.com/repos/pysal/spint/releases/latest\n",
      "https://api.github.com/repos/pysal/spreg/releases/latest\n",
      "https://api.github.com/repos/pysal/spvcm/releases/latest\n",
      "https://api.github.com/repos/pysal/tobler/releases/latest\n",
      "https://api.github.com/repos/pysal/mapclassify/releases/latest\n",
      "https://api.github.com/repos/pysal/splot/releases/latest\n",
      "https://api.github.com/repos/pysal/spopt/releases/latest\n"
     ]
    }
   ],
   "source": [
    "releases = get_github_info()  "
   ]
  },
  {
   "cell_type": "code",
   "execution_count": 15,
   "id": "north-movement",
   "metadata": {},
   "outputs": [
    {
     "data": {
      "text/plain": [
       "dict_keys(['libpysal', 'access', 'esda', 'giddy', 'inequality', 'pointpats', 'segregation', 'spaghetti', 'mgwr', 'momepy', 'spglm', 'spint', 'spreg', 'spvcm', 'tobler', 'mapclassify', 'splot', 'spopt'])"
      ]
     },
     "execution_count": 15,
     "metadata": {},
     "output_type": "execute_result"
    }
   ],
   "source": [
    "releases.keys()"
   ]
  },
  {
   "cell_type": "code",
   "execution_count": 5,
   "id": "6d469743-97a7-4a75-98e3-997c853a3ce3",
   "metadata": {},
   "outputs": [],
   "source": [
    "import json\n",
    "requirements = []\n",
    "frozen_dict = {}\n",
    "for package in releases:\n",
    "    version = releases[package]['version']\n",
    "    version = version.replace(\"v\",\"\")\n",
    "    version = version.replace(\"V\",\"\")\n",
    "    requirements.append(f'{package}>={version}')\n",
    "    frozen_dict[package] = version\n",
    "\n",
    "with open('frozen.txt', 'w') as f:\n",
    "    f.write(\"\\n\".join(requirements))\n",
    "\n",
    "\n",
    "\n",
    "with open ('../requirements.txt', 'w') as f:\n",
    "    s = \"\\n\".join(requirements)\n",
    "    f.write(s)\n",
    "    "
   ]
  },
  {
   "cell_type": "code",
   "execution_count": 6,
   "id": "38da20eb-1ed6-4eba-ac55-ec0d60fbc614",
   "metadata": {},
   "outputs": [],
   "source": [
    "# update frozen.py    \n",
    "with open('../pysal/frozen.py', 'w') as f:\n",
    "    s = json.dumps(frozen_dict)\n",
    "    s = s.replace(\",\", \",\\n\\t\")\n",
    "    s = f\"frozen_packages = {s}\"\n",
    "    f.write(s)\n",
    "    "
   ]
  },
  {
   "cell_type": "code",
   "execution_count": null,
   "id": "2b66e22a-7d37-46f7-9576-c6bf5cc6e94b",
   "metadata": {},
   "outputs": [],
   "source": []
  },
  {
   "cell_type": "code",
   "execution_count": 7,
   "id": "frozen-singing",
   "metadata": {},
   "outputs": [],
   "source": [
    "import pickle \n",
    "pickle.dump(releases, open( \"releases.p\", \"wb\" ) )\n"
   ]
  }
 ],
 "metadata": {
  "kernelspec": {
   "display_name": "Python 3 (ipykernel)",
   "language": "python",
   "name": "python3"
  },
  "language_info": {
   "codemirror_mode": {
    "name": "ipython",
    "version": 3
   },
   "file_extension": ".py",
   "mimetype": "text/x-python",
   "name": "python",
   "nbconvert_exporter": "python",
   "pygments_lexer": "ipython3",
   "version": "3.12.2"
  }
 },
 "nbformat": 4,
 "nbformat_minor": 5
}
